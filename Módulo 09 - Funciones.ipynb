{
 "cells": [
  {
   "cell_type": "markdown",
   "metadata": {},
   "source": [
    "# Funciones"
   ]
  },
  {
   "cell_type": "markdown",
   "metadata": {},
   "source": [
    "## Ejercicio 1."
   ]
  },
  {
   "cell_type": "code",
   "execution_count": 1,
   "metadata": {},
   "outputs": [
    {
     "name": "stdout",
     "output_type": "stream",
     "text": [
      "Informe de Combustible:\n",
      "Tanque 1: 50\n",
      "Tanque 2: 60\n",
      "Tanque 3: 70\n",
      "Combustible promedio: 60.0\n",
      "    \n"
     ]
    }
   ],
   "source": [
    "def informe(t1, t2, t3):\n",
    "    pt = (t1 + t2 + t3)/3\n",
    "    return f'''Informe de Combustible:\n",
    "Tanque 1: {t1}\n",
    "Tanque 2: {t2}\n",
    "Tanque 3: {t3}\n",
    "Combustible promedio: {pt}\n",
    "    '''\n",
    "\n",
    "print(informe(50, 60, 70))"
   ]
  },
  {
   "cell_type": "code",
   "execution_count": 2,
   "metadata": {},
   "outputs": [
    {
     "name": "stdout",
     "output_type": "stream",
     "text": [
      "Informe de Combustible:\n",
      "Tanque 1: 50\n",
      "Tanque 2: 60\n",
      "Tanque 3: 70\n",
      "Combustible promedio: 60.0\n",
      "    \n"
     ]
    }
   ],
   "source": [
    "def prom(args):\n",
    "    return sum(args)/len(args)\n",
    "\n",
    "def informe(t1, t2, t3):\n",
    "    return f'''Informe de Combustible:\n",
    "Tanque 1: {t1}\n",
    "Tanque 2: {t2}\n",
    "Tanque 3: {t3}\n",
    "Combustible promedio: {prom([t1, t2, t3])}\n",
    "    '''\n",
    "\n",
    "print(informe(50, 60, 70))"
   ]
  },
  {
   "cell_type": "markdown",
   "metadata": {},
   "source": [
    "## Ejercicio 2."
   ]
  },
  {
   "cell_type": "code",
   "execution_count": 3,
   "metadata": {},
   "outputs": [
    {
     "name": "stdout",
     "output_type": "stream",
     "text": [
      "Informe de navegación:\n",
      "Misión con destino a: Ganimides\n",
      "Prelanzamientro programado a las: 10 hrs\n",
      "Duración estimada de viaje: 6 min\n",
      "Combustible total restante: 10800 galones\n",
      "    \n"
     ]
    }
   ],
   "source": [
    "def informePreciso (hora, tiempo, destino, tanEx, tanIn):\n",
    "    return f'''Informe de navegación:\n",
    "Misión con destino a: {destino}\n",
    "Prelanzamientro programado a las: {hora} hrs\n",
    "Duración estimada de viaje: {tiempo} min\n",
    "Combustible total restante: {tanEx+tanIn} galones\n",
    "    '''\n",
    "\n",
    "print(informePreciso(10, 6, \"Ganimides\", 4000, 6800))"
   ]
  },
  {
   "cell_type": "code",
   "execution_count": 4,
   "metadata": {},
   "outputs": [
    {
     "name": "stdout",
     "output_type": "stream",
     "text": [
      "Informe de navegación:\n",
      "Misión con destino a: Ganimides\n",
      "Hora de llegada: Sunday 19:07\n",
      "Combustible total restante: 10800 galones\n",
      "    \n"
     ]
    }
   ],
   "source": [
    "from datetime import timedelta, datetime\n",
    "def informePreciso (destino, *minutos, **reservas):\n",
    "    hora = datetime.now()\n",
    "    llegada = hora + timedelta(minutes=sum(minutos))\n",
    "    return f'''Informe de navegación:\n",
    "Misión con destino a: {destino}\n",
    "{llegada.strftime('Hora de llegada: %A %H:%M')}\n",
    "Combustible total restante: {sum(reservas.values())} galones\n",
    "    '''\n",
    "\n",
    "print(informePreciso(\"Ganimides\", 10, 60, principal=4000, externo=6800))"
   ]
  },
  {
   "cell_type": "code",
   "execution_count": 5,
   "metadata": {},
   "outputs": [
    {
     "name": "stdout",
     "output_type": "stream",
     "text": [
      "Informe de navegación:\n",
      "Misión con destino a: Ganimides\n",
      "Hora de llegada: Sunday 19:07\n",
      "El tanque principal tiene 4000 galones restantes\n",
      "El tanque externo tiene 6800 galones restantes\n",
      "\n",
      "    \n"
     ]
    }
   ],
   "source": [
    "from datetime import timedelta, datetime\n",
    "def informePreciso (destino, *minutos, **reservas):\n",
    "    hora = datetime.now()\n",
    "    llegada = hora + timedelta(minutes=sum(minutos))\n",
    "    infTanques = ''\n",
    "    for tanque, galones in reservas.items():\n",
    "        infTanques += f\"El tanque {tanque} tiene {galones} galones restantes\\n\"\n",
    "    return f'''Informe de navegación:\n",
    "Misión con destino a: {destino}\n",
    "{llegada.strftime('Hora de llegada: %A %H:%M')}\n",
    "{infTanques}\n",
    "    '''\n",
    "\n",
    "print(informePreciso(\"Ganimides\", 10, 60, principal=4000, externo=6800))"
   ]
  },
  {
   "cell_type": "code",
   "execution_count": null,
   "metadata": {},
   "outputs": [],
   "source": []
  }
 ],
 "metadata": {
  "interpreter": {
   "hash": "51f6249595b54cd359e397f0fbdcbbaba3d663c0d1246ed5407e2d8f1068e19d"
  },
  "kernelspec": {
   "display_name": "Python 3.10.1 64-bit",
   "language": "python",
   "name": "python3"
  },
  "language_info": {
   "codemirror_mode": {
    "name": "ipython",
    "version": 3
   },
   "file_extension": ".py",
   "mimetype": "text/x-python",
   "name": "python",
   "nbconvert_exporter": "python",
   "pygments_lexer": "ipython3",
   "version": "3.10.1"
  },
  "orig_nbformat": 4
 },
 "nbformat": 4,
 "nbformat_minor": 2
}
